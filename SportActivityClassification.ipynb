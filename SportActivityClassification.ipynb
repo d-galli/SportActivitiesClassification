{
 "cells": [
  {
   "cell_type": "markdown",
   "id": "044bfeaa",
   "metadata": {},
   "source": [
    "# Sport Activity Classification"
   ]
  },
  {
   "cell_type": "markdown",
   "id": "520c46f5",
   "metadata": {},
   "source": [
    "### Pre-processing"
   ]
  },
  {
   "cell_type": "markdown",
   "id": "e838d0cc",
   "metadata": {},
   "source": [
    "Import all the necessary python libraries"
   ]
  },
  {
   "cell_type": "code",
   "execution_count": 45,
   "id": "68f6440d",
   "metadata": {},
   "outputs": [],
   "source": [
    "import pandas as pd\n",
    "import numpy as np"
   ]
  },
  {
   "cell_type": "code",
   "execution_count": 46,
   "id": "01404112",
   "metadata": {},
   "outputs": [],
   "source": [
    "fileIndex = [\"%02d\" % x for x in range(1,61)]\n",
    "personIndex = [\"%01d\" % x for x in range(1,9)]\n",
    "activityIndex = [\"%02d\" % x for x in range(1,20)]"
   ]
  },
  {
   "cell_type": "markdown",
   "id": "4f8ae3e5",
   "metadata": {},
   "source": [
    "Compute the average value of each measurement within the given 5 secs, then combine all of them into a single array. Add to each array the index of the related activity."
   ]
  },
  {
   "cell_type": "code",
   "execution_count": 47,
   "id": "4a221546",
   "metadata": {},
   "outputs": [
    {
     "name": "stdout",
     "output_type": "stream",
     "text": [
      "Importing data\n",
      "Elaborating activity number:  01\n",
      "Elaborating activity number:  02\n",
      "Elaborating activity number:  03\n",
      "Elaborating activity number:  04\n",
      "Elaborating activity number:  05\n",
      "Elaborating activity number:  06\n",
      "Elaborating activity number:  07\n",
      "Elaborating activity number:  08\n",
      "Elaborating activity number:  09\n",
      "Elaborating activity number:  10\n",
      "Elaborating activity number:  11\n",
      "Elaborating activity number:  12\n",
      "Elaborating activity number:  13\n",
      "Elaborating activity number:  14\n",
      "Elaborating activity number:  15\n",
      "Elaborating activity number:  16\n",
      "Elaborating activity number:  17\n",
      "Elaborating activity number:  18\n",
      "Elaborating activity number:  19\n",
      "Elaborating person number:  8\n",
      "Data correctly stored\n"
     ]
    }
   ],
   "source": [
    "activities = []\n",
    "print(\"Importing data\")\n",
    "for k in range(19):\n",
    "    print(\"Elaborating activity number: \", activityIndex[k])\n",
    "    for j in range(8):\n",
    "        print(\"Elaborating person number: \", personIndex[j], end = \"\\r\")\n",
    "        for i in range(60):\n",
    "            #print(\"Importing file number: \", fileIndex[i])\n",
    "            filename = './sportsDataset/a' + activityIndex[k] + '/p'+ personIndex[j] + '/s' + fileIndex[i] + '.txt'\n",
    "\n",
    "            data = np.loadtxt(filename, delimiter=',', skiprows=1, dtype=float)\n",
    "            dataT = data.transpose()            \n",
    "            average = np.mean(dataT, axis=1)\n",
    "            \n",
    "            index = np.array([int(activityIndex[k])])\n",
    "            newData = np.append(average, index, axis=0)\n",
    "            \n",
    "            activities.append(newData)\n",
    "\n",
    "print(\"\\nData correctly stored\")"
   ]
  },
  {
   "cell_type": "markdown",
   "id": "a3f674e8",
   "metadata": {},
   "source": [
    "Save the data as a CSV file."
   ]
  },
  {
   "cell_type": "code",
   "execution_count": 48,
   "id": "6a403994",
   "metadata": {},
   "outputs": [],
   "source": [
    "activitiesDataset = np.array(activities)\n",
    "np.savetxt(\"./sportsDataset/ActivitiesDataset.csv\", activitiesDataset, delimiter=\",\")"
   ]
  },
  {
   "cell_type": "code",
   "execution_count": null,
   "id": "262b8b92",
   "metadata": {},
   "outputs": [],
   "source": []
  }
 ],
 "metadata": {
  "kernelspec": {
   "display_name": "Python 3 (ipykernel)",
   "language": "python",
   "name": "python3"
  },
  "language_info": {
   "codemirror_mode": {
    "name": "ipython",
    "version": 3
   },
   "file_extension": ".py",
   "mimetype": "text/x-python",
   "name": "python",
   "nbconvert_exporter": "python",
   "pygments_lexer": "ipython3",
   "version": "3.8.10"
  }
 },
 "nbformat": 4,
 "nbformat_minor": 5
}
